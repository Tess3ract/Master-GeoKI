{
 "cells": [
  {
   "cell_type": "markdown",
   "metadata": {},
   "source": [
    "# Preprocessing: Cleaning and Collection Data\n",
    "In this notebook we clean and collect our main data source"
   ]
  },
  {
   "attachments": {},
   "cell_type": "markdown",
   "metadata": {},
   "source": [
    "## Create Request for WMS Server\n",
    "We obtained orthophotos from a WMS server, a web service that delivers map images based on geospatial data. Our data spanned several regions in Saarland. For each region, we created a link that requested an orthophoto by specifying a bounding box and the resolution of the image. The code below shows how we generated a link for an example region. We repeated this process for multiple regions using the same code."
   ]
  },
  {
   "cell_type": "code",
   "execution_count": 1,
   "metadata": {},
   "outputs": [],
   "source": [
    "import pandas as pd\n",
    "import os\n",
    "\n",
    "SOURCE_DIR = '/home/mniederer/workspace/data/new_material' # path to the main dataset"
   ]
  },
  {
   "cell_type": "code",
   "execution_count": 2,
   "metadata": {},
   "outputs": [
    {
     "name": "stdout",
     "output_type": "stream",
     "text": [
      "2555695.8 , 5466296.0\n",
      "0.15981999999997207 , 0.15982375979118352\n",
      "https://geoportal.saarland.de/freewms/dop?request=GetMap&VERSION=1.1.1&layers=sl_dop&SRS=EPSG:31466&BBOX=2554097.6,5465316.6,2555695.8,5466296.0&WIDTH=10000&HEIGHT=6128&Format=image/tiff\n"
     ]
    }
   ],
   "source": [
    "request = 'https://geoportal.saarland.de/freewms/dop?request=GetMap&VERSION=1.1.1&layers=sl_dop&SRS=EPSG:31466&BBOX={left_lower_corner},{right_upper_corner}&WIDTH={width}&HEIGHT={height}&Format=image/tiff'\n",
    "\n",
    "\n",
    "# insert here lower left corner and upper right corner\n",
    "ll_x, ll_y = 2554097.6,5465316.6\n",
    "ur_x, ur_y = 2555695.8,5466296.0\n",
    "region_name = 'Mischgebiet_Fraulautern'\n",
    "\n",
    "x_upper_left = ur_x\n",
    "y_upper_left = ur_y\n",
    "\n",
    "\n",
    "print(x_upper_left, ',', y_upper_left)\n",
    "\n",
    "diff_x = abs(ll_x-ur_x)\n",
    "diff_y = abs(ll_y - ur_y)\n",
    "\n",
    "\n",
    "width = 0\n",
    "height = 0\n",
    "\n",
    "# we want the best resolution possible. The highest number of possible pixels in one dimension was 10000. \n",
    "# So we set the longer edge of our bounding box to 10000 and calculated the shorter edge.\n",
    "if diff_x > diff_y:\n",
    "    width = 10000\n",
    "    one = 10000 / diff_x\n",
    "    height = round(diff_y * one)\n",
    "\n",
    "else:\n",
    "    height = 10000\n",
    "    one = 10000 / diff_y\n",
    "    width = round(diff_x * one)\n",
    "\n",
    "# calculate pixel size in map units (GSD) for each direction\n",
    "x_pixel_size = diff_x / width\n",
    "y_pixel_size = diff_y / height\n",
    "print(x_pixel_size,',', y_pixel_size)\n",
    "\n",
    "print(\n",
    "    request.format(\n",
    "    left_lower_corner = str(ll_x)+','+str(ll_y),\n",
    "    right_upper_corner = str(ur_x)+','+str(ur_y),\n",
    "    width = width,\n",
    "    height = height\n",
    "))\n",
    "\n",
    "# create tfw file: A tfw world file is a text file used to georeference the GeoTIFF raster images, like tiff.\n",
    "# It contains information about the tiff such as pixel size in each dimension\n",
    "f = open(\n",
    "    os.path.join(SOURCE_DIR, region_name + '.tfw'),\n",
    "    mode='w'\n",
    ")\n",
    "f.write(str(x_pixel_size) + '\\n' +    #pixel size in x\n",
    "         str(0) + '\\n' +              #rotation x\n",
    "         str(0) + '\\n' +             #rotation y\n",
    "         str(y_pixel_size) + '\\n' +    #pixel size in y\n",
    "         str(x_upper_left) + '\\n' +    #x coordinate upper left corner\n",
    "         str(y_upper_left) + '\\n'     #y coordinate upper left corner\n",
    "\n",
    "\n",
    "    )\n",
    "f.close()\n"
   ]
  },
  {
   "attachments": {},
   "cell_type": "markdown",
   "metadata": {},
   "source": [
    "## Prepreprocessing\n",
    "Our main dataset contained many features. We created a new csv file with only the relevant information. We also dropped any rows with missing data."
   ]
  },
  {
   "cell_type": "code",
   "execution_count": 20,
   "metadata": {},
   "outputs": [],
   "source": [
    "#read csv\n",
    "df = pd.read_csv(os.path.join(SOURCE_DIR, 'umrisse_und_material_nach_ortsbesichtigung.csv'))\n",
    "df = df.loc[:,['WKT', 'mat_qgis_neu', 'ezg', 'id']] # only keep important features\n",
    "df.dropna(inplace=True) # drop missing data\n",
    "df.drop(index=1541, inplace=True) # there is missing polygon\n",
    "df.reset_index(inplace=True)  # never use df.set_index() . It does not work as you think. With df.iloc[index] it's like nothing changed. And that fucked me up bad.\n",
    "df['mat_qgis'] = df['mat_qgis_neu']\n",
    "df = df.loc[:,['WKT', 'mat_qgis', 'ezg', 'id']]\n",
    "df.to_csv(os.path.join(SOURCE_DIR, 'umrisse_clean.csv')) # save cleaned dataset to new csv-file"
   ]
  },
  {
   "attachments": {},
   "cell_type": "markdown",
   "metadata": {},
   "source": [
    "### Merge Roof Material Classes\n",
    "We merge some of the roof material classes in our dataset, as they provide more detailed information than we need for our purposes.s"
   ]
  },
  {
   "cell_type": "code",
   "execution_count": 13,
   "metadata": {},
   "outputs": [],
   "source": [
    "df = pd.read_csv(os.path.join(SOURCE_DIR, 'umrisse_clean.csv'), index_col=0)\n",
    "\n",
    "\n",
    "#combine different colors of ziegel and type of metal roofs\n",
    "def combine(s):\n",
    "    if (s == 'Ziegel Braun/Schwarz' or s == 'Ziegel Rot'):\n",
    "        return 'Ziegel'\n",
    "    elif (s == 'Faserzement'):\n",
    "        return 'Asbest|Faserzement'\n",
    "    elif (s == 'Metalleindeckung'):\n",
    "        return 'Metallbahn'\n",
    "    else:\n",
    "        return s.replace('/', '|')\n",
    "    \n",
    "    \n",
    "\n",
    "\n",
    "\n",
    "\n",
    "df['mat_qgis'] = df['mat_qgis'].apply(combine) #modify classes\n",
    "df['ezg'] = df['ezg'].apply(lambda s : s.replace(' ', '_')) # replace whitespaces with _"
   ]
  },
  {
   "attachments": {},
   "cell_type": "markdown",
   "metadata": {},
   "source": [
    "### Create New Feature: 'area_type'\n",
    "Each roof belongs to a region that can be classified as industrial, city, residential or mixed."
   ]
  },
  {
   "cell_type": "code",
   "execution_count": 14,
   "metadata": {},
   "outputs": [],
   "source": [
    "def define_area(s):\n",
    "    if 'Industrie' in s:\n",
    "        return 0\n",
    "    elif 'Wohn' in s:\n",
    "        return 1\n",
    "    elif 'Kern' in s:\n",
    "        return 2\n",
    "    elif 'Misch' in s:\n",
    "        return 3\n",
    "    else:\n",
    "        return 4\n",
    "\n",
    "areas = []\n",
    "\n",
    "for ezg in df['ezg']:\n",
    "    areas.append(define_area(ezg))\n",
    "\n",
    "df['area_type'] = areas\n",
    "df.to_csv(os.path.join(SOURCE_DIR, 'umrisse_clean.csv')) # save cleaned dataset to new csv-file"
   ]
  },
  {
   "attachments": {},
   "cell_type": "markdown",
   "metadata": {},
   "source": [
    "# Data Analysis"
   ]
  },
  {
   "cell_type": "code",
   "execution_count": 3,
   "metadata": {},
   "outputs": [],
   "source": [
    "import numpy as np\n",
    "import pandas as pd\n",
    "import skimage as sk\n",
    "import matplotlib.pyplot as plt\n",
    "import os\n",
    "from PIL import Image\n",
    "import random\n",
    "from shutil import copyfile, rmtree\n",
    "import re\n",
    "\n",
    "SOURCE_DIR = '/home/mniederer/workspace/data/new_material' # path to orthophotos\n",
    "DESTINATION_DIR = '/home/mniederer/workspace/data/new_data' # path where cut roof images should be stored\n"
   ]
  },
  {
   "cell_type": "markdown",
   "metadata": {},
   "source": [
    "#### Display Regions and Classes"
   ]
  },
  {
   "cell_type": "code",
   "execution_count": 4,
   "metadata": {},
   "outputs": [
    {
     "name": "stdout",
     "output_type": "stream",
     "text": [
      "Regionen: ['Industriegebiet_Fordwerke' 'Industriegebiet_Heiligenwald'\n",
      " 'Industriegebiet_Theley' 'Kerngebiet_Schiffweiler' 'Kerngebiet_Tholey'\n",
      " 'Mischgebiet_Landsweiler-Reden' 'Mischgebiet_Tholey'\n",
      " 'Kerngebiet_Saarlouis' 'Mischgebiet_Fraulautern'\n",
      " 'Wohngebiet_Neuforweiler' 'Wohngebiet_Bergweiler'\n",
      " 'Wohngebiet_Stennweiler' 'Wohngebiet_Tholey']\n",
      "----------------------------------------------------------------------\n",
      "Klassen ['Beton' 'Bitumen' 'Metallbahn' 'Asbest|Faserzement' 'Kunststoffbahn'\n",
      " 'Schiefer' 'Ziegel' 'PVC|Polycarbonat' 'Dachbegrünung' 'Glas' 'Kupfer']\n"
     ]
    }
   ],
   "source": [
    "df = pd.read_csv(os.path.join(SOURCE_DIR, 'umrisse_clean.csv'), index_col=0)\n",
    "regions = pd.unique(df['ezg'])\n",
    "\n",
    "print('Regions:' ,regions)\n",
    "print('----------------------------------------------------------------------')\n",
    "print('Classes', pd.unique(df['mat_qgis']))"
   ]
  },
  {
   "cell_type": "markdown",
   "metadata": {},
   "source": [
    "#### Distribution of Classes German"
   ]
  },
  {
   "cell_type": "code",
   "execution_count": 22,
   "metadata": {},
   "outputs": [
    {
     "name": "stdout",
     "output_type": "stream",
     "text": [
      "Number of data points: 8247\n"
     ]
    },
    {
     "data": {
      "image/png": "[encoded data removed]",
      "text/plain": [
       "<Figure size 640x480 with 1 Axes>"
      ]
     },
     "metadata": {},
     "output_type": "display_data"
    },
    {
     "name": "stdout",
     "output_type": "stream",
     "text": [
      "                    count\n",
      "Klasse                   \n",
      "Asbest|Faserzement    896\n",
      "Beton                 795\n",
      "Bitumen               741\n",
      "Dachbegrünung          26\n",
      "Glas                  130\n",
      "Kunststoffbahn         11\n",
      "Kupfer                  2\n",
      "Metallbahn           1296\n",
      "PVC|Polycarbonat      137\n",
      "Schiefer              141\n",
      "Ziegel               4072\n"
     ]
    }
   ],
   "source": [
    "class_count = df.loc[:,['WKT','mat_qgis']].groupby(by='mat_qgis', dropna=False).count()\n",
    "class_count.rename({'WKT': 'count'}, axis=1, inplace=True)\n",
    "class_count.index.name= 'Klasse'\n",
    "\n",
    "print('Number of data points:' ,class_count.iloc[:,0].sum())\n",
    "\n",
    "\n",
    "def autolabel(rects):\n",
    "    \"\"\"Attach a text label above each bar in *rects*, displaying its height.\"\"\"\n",
    "    for rect in rects:\n",
    "        height = rect.get_height()\n",
    "        ax.annotate('{}'.format(height),\n",
    "                    xy=(rect.get_x() + rect.get_width() / 2, height),\n",
    "                    xytext=(0, 3),  # 3 points vertical offset\n",
    "                    textcoords=\"offset points\",\n",
    "                    ha='center', va='bottom')\n",
    "\n",
    "\n",
    "classes = np.array(class_count.index.array)\n",
    "counts = np.array(class_count['count'].array)\n",
    "rects = plt.bar(classes, counts)\n",
    "plt.title('Distribution of classes')\n",
    "plt.xticks(rotation = 90)\n",
    "ax = plt.gca()\n",
    "autolabel(rects)\n",
    "plt.show()\n",
    "\n",
    "\n",
    "print(class_count)"
   ]
  },
  {
   "cell_type": "markdown",
   "metadata": {},
   "source": [
    "### Distribution of Classes English"
   ]
  },
  {
   "cell_type": "code",
   "execution_count": 10,
   "metadata": {},
   "outputs": [
    {
     "data": {
      "image/png": "[encoded data removed]",
      "text/plain": [
       "<Figure size 640x480 with 1 Axes>"
      ]
     },
     "metadata": {},
     "output_type": "display_data"
    },
    {
     "name": "stdout",
     "output_type": "stream",
     "text": [
      "                    count\n",
      "Klasse                   \n",
      "Asbest|Faserzement    896\n",
      "Beton                 795\n",
      "Bitumen               741\n",
      "Dachbegrünung          26\n",
      "Glas                  130\n",
      "Kunststoffbahn         11\n",
      "Kupfer                  2\n",
      "Metallbahn           1296\n",
      "PVC|Polycarbonat      137\n",
      "Schiefer              141\n",
      "Ziegel               4072\n"
     ]
    }
   ],
   "source": [
    "class_count = df.loc[:,['WKT','mat_qgis']].groupby(by='mat_qgis', dropna=False).count()\n",
    "class_count.rename({'WKT': 'count'}, axis=1, inplace=True)\n",
    "class_count.index.name= 'Klasse'\n",
    "\n",
    "\n",
    "def autolabel(rects):\n",
    "    \"\"\"Attach a text label above each bar in *rects*, displaying its height.\"\"\"\n",
    "    for rect in rects:\n",
    "        height = rect.get_height()\n",
    "        ax.annotate('{}'.format(height),\n",
    "                    xy=(rect.get_x() + rect.get_width() / 2, height),\n",
    "                    xytext=(0, 3),  # 3 points vertical offset\n",
    "                    textcoords=\"offset points\",\n",
    "                    ha='center', va='bottom')\n",
    "\n",
    "\n",
    "classes = [ 'asbestos|fibre cement',  'concrete', 'bitumen sheets', 'roof greening',  'glass',\n",
    "                    'plastic waterproofing membranes', 'copper', 'metal sheets', 'PVC|polycarbonate', 'slate', 'roof tiles']\n",
    "counts = np.array(class_count['count'].array)\n",
    "rects = plt.bar(classes, counts)\n",
    "plt.title('Distribution of classes')\n",
    "plt.xticks(rotation = 90)\n",
    "ax = plt.gca()\n",
    "autolabel(rects)\n",
    "plt.show()\n",
    "\n",
    "\n",
    "print(class_count)"
   ]
  },
  {
   "attachments": {},
   "cell_type": "markdown",
   "metadata": {},
   "source": [
    "# Preprocessing"
   ]
  },
  {
   "cell_type": "markdown",
   "metadata": {},
   "source": [
    "## Functions for Preprocessing\n",
    "These functions are used in our preprocessing process"
   ]
  },
  {
   "cell_type": "code",
   "execution_count": 9,
   "metadata": {},
   "outputs": [],
   "source": [
    "# read tfw file and return coordinates of upper left pixel and the pixel size\n",
    "def read_tfw(path):\n",
    "    f = open(path)\n",
    "    tfw = f.read()\n",
    "    f.close()\n",
    "    tfw = tfw.split('\\n') #split lines\n",
    "    tfw.remove('') # remove empty line\n",
    "    tfw = list(map(lambda s : float(s), tfw)) # cast strings to float\n",
    "\n",
    "    x_upper_left, y_upper_left = tfw[4], tfw[5]\n",
    "    x_pixel_size, y_pixel_size = tfw[0], -tfw[3]\n",
    "    return x_upper_left, y_upper_left, x_pixel_size, y_pixel_size\n",
    "\n",
    "\n",
    "# convert coordinates (of polygons) to pixel in orthophoto\n",
    "def convert_coordinate(x,y, x_upper_left, y_upper_left, x_pixel_size, y_pixel_size):\n",
    "    x_image = int((x - x_upper_left) / x_pixel_size)\n",
    "    y_image = int((y - y_upper_left) / y_pixel_size)\n",
    "    return (x_image, y_image)\n",
    "\n",
    "# parse polygon to list of coordinates\n",
    "def parse_polygon(s):\n",
    "    coordinates = s.split(',')\n",
    "    polygon = []\n",
    "    for coordinate in coordinates:\n",
    "        (u,v) = coordinate.split(' ')\n",
    "        polygon.append((float(u), float(v)))\n",
    "    return polygon\n",
    "\n",
    "# cut image from orthophoto based on minimal and maximal x and y coordinates. Create a mask that captures roof in cut image.\n",
    "# White out non mask pixels\n",
    "def crop_image(image, polygon):\n",
    "    xs = [x for (x,y) in polygon]\n",
    "    ys = [y for (x,y) in polygon]\n",
    "    x_min = min(xs)\n",
    "    x_max = max(xs)\n",
    "    y_min = min(ys)\n",
    "    y_max = max(ys)\n",
    "    cropped = image[y_min:y_max+1,x_min:x_max+1].copy()       \n",
    "    cropped_polygon = [ (x - x_min, y - y_min) for (x,y) in polygon]\n",
    "    mask = sk.draw.polygon2mask(cropped.shape[0:2], [(y,x) for (x,y) in cropped_polygon])    \n",
    "    \n",
    "    for y in range(0, cropped.shape[0]):\n",
    "        for x in range(0, cropped.shape[1]):\n",
    "            if (not mask[y,x]):\n",
    "                cropped[y,x,0] = 1\n",
    "                cropped[y,x,1] = 1\n",
    "                cropped[y,x,2] = 1 \n",
    "    \n",
    "    return cropped, mask\n",
    "\n",
    "\n",
    "\n",
    "\n"
   ]
  },
  {
   "cell_type": "markdown",
   "metadata": {},
   "source": [
    "## Functions for Splitting the Data\n",
    "We aim to split our data into train, test and validation sets. To ensure the same distribution of classes for each set, we perform this split for each roof category separately. We use either a random or a region-based method to split the data."
   ]
  },
  {
   "cell_type": "code",
   "execution_count": 10,
   "metadata": {},
   "outputs": [],
   "source": [
    "# Splits the data into train and test and validation sets at random\n",
    "def split_data_random(main_dir, training_dir, validation_dir, test_dir, seed=12345):\n",
    "    \"\"\"\n",
    "    Args:\n",
    "    main_dir (string):  path containing the images\n",
    "    training_dir (string):  path to be used for training\n",
    "    validation_dir (string):  path to be used for validation\n",
    "    test_dir (string):  path to be used for testing\n",
    "    \"\"\"\n",
    "    files = []\n",
    "    for file in os.listdir(main_dir):\n",
    "        if  os.path.getsize(os.path.join(main_dir, file)): # check if the file's size isn't 0\n",
    "            files.append(file) # appends file name to a list\n",
    "\n",
    "    random.seed(seed)\n",
    "    shuffled_files = random.sample(files,  len(files)) # shuffles the data\n",
    "    split = int(0.8 * len(shuffled_files)) #the training split casted into int for numeric rounding\n",
    "    split2= int(0.9 * len(shuffled_files))\n",
    "\n",
    "    train = shuffled_files[:split] #training split\n",
    "    validation = shuffled_files[split:split2] # validation split\n",
    "    test = shuffled_files[split2:]\n",
    "    for element in train:\n",
    "        copyfile(os.path.join(main_dir,  element), os.path.join(training_dir, element)) # copy files into training directory\n",
    "\n",
    "    for element in validation:\n",
    "        copyfile(os.path.join(main_dir,  element), os.path.join(validation_dir, element))# copy files into validation directory\n",
    "\n",
    "    for element in test:\n",
    "        copyfile(os.path.join(main_dir,  element), os.path.join(test_dir, element))# copy files into validation directory\n",
    "\n",
    "import re\n",
    "\n",
    "# Splits the data into train and test and validation sets at based of name of region (ezg feature in main data source)\n",
    "def split_data_region(main_dir, training_dir, validation_dir, test_dir, region_for_test):\n",
    "\n",
    "    files = []\n",
    "    test = []\n",
    "\n",
    "    # all data from selected region goes to test data\n",
    "    for file in os.listdir(main_dir):\n",
    "        if ( region_for_test in file ):\n",
    "            test.append(file)\n",
    "        else:\n",
    "            files.append(file)\n",
    "    \n",
    "    # all other data is split into train and validation part\n",
    "    random.seed(5345435)\n",
    "    shuffled_files = random.sample(files,  len(files)) # shuffles the data\n",
    "    split = int(0.8 * len(shuffled_files)) #the training split casted into int for numeric rounding\n",
    "\n",
    "    train = shuffled_files[:split] #training split\n",
    "    validation = shuffled_files[split:] # validation split\n",
    "\n",
    "    for element in train:\n",
    "        copyfile(os.path.join(main_dir,  element), os.path.join(training_dir, element)) # copy files into training directory\n",
    "\n",
    "    for element in validation:\n",
    "        copyfile(os.path.join(main_dir,  element), os.path.join(validation_dir, element))# copy files into validation directory\n",
    "\n",
    "    for element in test:\n",
    "        copyfile(os.path.join(main_dir,  element), os.path.join(test_dir, element))# copy files into validation directory\n",
    "\n",
    "\n"
   ]
  },
  {
   "attachments": {},
   "cell_type": "markdown",
   "metadata": {},
   "source": [
    "## Create Directories for Classes\n",
    "We assign each class a separate directory and store all the images belonging to that class in it. Our directory structure is as follows:\n",
    "- all_data\n",
    "    - class 1\n",
    "    - class 2\n",
    "    - ...\n",
    "- train\n",
    "    - class 1\n",
    "    - class 2\n",
    "    - ...\n",
    "- validation\n",
    "    - class 1\n",
    "    - class 2\n",
    "    - ...\n",
    "- test\n",
    "    - class 1\n",
    "    - class 2\n",
    "    - ...\n",
    "\n",
    "The all_data directory contains the entire dataset, while the train, validation and test directories contain the data split according to its usage."
   ]
  },
  {
   "cell_type": "code",
   "execution_count": 11,
   "metadata": {},
   "outputs": [],
   "source": [
    "df = pd.read_csv(os.path.join(SOURCE_DIR, 'umrisse_clean.csv'), index_col=0) # read cleaned DataFrame\n",
    "regions = pd.unique(df['ezg']) # all regions\n",
    "classes = pd.unique(df['mat_qgis']) # all classes\n",
    "grouped_by_regions = df.groupby(by='ezg').groups # group images (index of images) by region (ezg)\n",
    "df['area'] = 0  #new feature to store surface area of images"
   ]
  },
  {
   "cell_type": "code",
   "execution_count": 12,
   "metadata": {},
   "outputs": [
    {
     "name": "stdout",
     "output_type": "stream",
     "text": [
      "/home/mniederer/workspace/data/new_data exists and will be deleted...\n"
     ]
    }
   ],
   "source": [
    "try:\n",
    "    if os.path.isdir(DESTINATION_DIR):\n",
    "        print(DESTINATION_DIR, 'exists and will be deleted...')\n",
    "        rmtree(DESTINATION_DIR)\n",
    "    os.mkdir(DESTINATION_DIR)\n",
    "    for usage in ['train', 'validation', 'test', 'all_data']:\n",
    "        os.mkdir(os.path.join(DESTINATION_DIR, usage))\n",
    "        for material in classes:\n",
    "            os.mkdir(os.path.join(DESTINATION_DIR, usage, str(material)))\n",
    "except OSError as error:\n",
    "    print(error)  "
   ]
  },
  {
   "attachments": {},
   "cell_type": "markdown",
   "metadata": {},
   "source": [
    "## Cut Roofs from Orthophoto\n",
    "The following code implements the main preprocessing process: For each region, we load the Orthophoto and apply CLAHE. Then we extract all the roofs from that region. For each roof, we mask out all the pixels that are not part of the roof and compute the surface area of the roof using its mask. Finally, we save the image of each roof and store the surface area in our DataFrame."
   ]
  },
  {
   "cell_type": "code",
   "execution_count": 17,
   "metadata": {},
   "outputs": [
    {
     "name": "stdout",
     "output_type": "stream",
     "text": [
      "Processing  Industriegebiet_Fordwerke ...\n"
     ]
    },
    {
     "name": "stdout",
     "output_type": "stream",
     "text": [
      "Processing  Industriegebiet_Heiligenwald ...\n",
      "Processing  Industriegebiet_Theley ...\n",
      "Processing  Kerngebiet_Saarlouis ...\n",
      "Processing  Kerngebiet_Schiffweiler ...\n",
      "Processing  Kerngebiet_Tholey ...\n",
      "Processing  Mischgebiet_Fraulautern ...\n",
      "Processing  Mischgebiet_Landsweiler-Reden ...\n",
      "Processing  Mischgebiet_Tholey ...\n",
      "Processing  Wohngebiet_Bergweiler ...\n",
      "Processing  Wohngebiet_Neuforweiler ...\n",
      "Processing  Wohngebiet_Stennweiler ...\n",
      "Processing  Wohngebiet_Tholey ...\n"
     ]
    }
   ],
   "source": [
    "from skimage import exposure\n",
    "from skimage.color.adapt_rgb import adapt_rgb, each_channel, hsv_value\n",
    "\n",
    "# calculate area of polygon by its mask and pixel_size in tfw\n",
    "def calculate_area(mask, x_pixel_size, y_pixel_size):\n",
    "    one_counter = 0\n",
    "    for pixel in np.nditer(mask):\n",
    "        if pixel == 1:\n",
    "            one_counter += 1\n",
    "    \n",
    "\n",
    "    return round(-one_counter * x_pixel_size * y_pixel_size,2)\n",
    "\n",
    "# CLAHE\n",
    "@adapt_rgb(hsv_value)\n",
    "def adaptive_hist_hsv(image):\n",
    "    return exposure.equalize_adapthist(image, clip_limit=0.03)\n",
    "\n",
    "\n",
    "# here begins the main part\n",
    "for region in grouped_by_regions:       # for each region\n",
    "    print('Processing ',region, '...')\n",
    "    orthophoto = sk.io.imread(os.path.join(SOURCE_DIR, region +'.tiff')) # read orthophoto from file\n",
    "    orthophoto = orthophoto.astype('float32') # convert int to float\n",
    "    orthophoto /= 255  # int pixels: [0, 1, ... , 255]  to float pixels [0,1[\n",
    "    x_upper_left, y_upper_left, x_pixel_size, y_pixel_size = read_tfw(os.path.join(SOURCE_DIR, region +'.tfw'))\n",
    "    \n",
    "    for index in grouped_by_regions[region]: # for each roof in that region\n",
    "        material = df.iloc[index].mat_qgis  # roof material class of that roof\n",
    "        id = df.iloc[index].id\n",
    "        poly_string_splitted = re.split(\"[\\(\\)]+\", df.iloc[index].WKT) # prepare polygon string\n",
    "        polygon = parse_polygon(poly_string_splitted[1]) # parse polygon string\n",
    "        polygon_image = [convert_coordinate(x,y, x_upper_left, y_upper_left, x_pixel_size, y_pixel_size) for (x,y) in polygon] # convert coordinates to pixel in image\n",
    "        cropped, mask = crop_image(orthophoto, polygon_image) # cut image\n",
    "        try:\n",
    "            df.iloc[index,6] = calculate_area(mask, x_pixel_size, y_pixel_size)  # calculate and save new feature: 'area'\n",
    "        except ValueError as error:\n",
    "            print('Error with id:{}'.format(index),error)\n",
    "        try:\n",
    "            cropped *= 255 # convert back to int for saving image\n",
    "            int_final = cropped.astype('uint8')\n",
    "            sk.io.imsave(os.path.join(DESTINATION_DIR, 'all_data' ,material, region+ '_' +str(id)+'.jpg'), int_final, check_contrast=False) # save image\n",
    "        except IndexError as error:\n",
    "            print(error)        \n",
    "        except ValueError as error:\n",
    "            print(error)"
   ]
  },
  {
   "attachments": {},
   "cell_type": "markdown",
   "metadata": {},
   "source": [
    "## Save Dataframe with New Features: Area and Area Type"
   ]
  },
  {
   "cell_type": "code",
   "execution_count": 18,
   "metadata": {},
   "outputs": [],
   "source": [
    "df.loc[df['area'].isna(), 'area'] = 1  #very small values (close to 0) make problems. So just set them to 1   \n",
    "df.to_csv(os.path.join(SOURCE_DIR, 'umrisse_with_all_data.csv'), index=False)"
   ]
  },
  {
   "attachments": {},
   "cell_type": "markdown",
   "metadata": {},
   "source": [
    "## Split Data\n",
    "Split data into train, validation and test sets at random. Do this for each class individually to maintain the distribution of classes."
   ]
  },
  {
   "cell_type": "code",
   "execution_count": 20,
   "metadata": {},
   "outputs": [
    {
     "data": {
      "text/plain": [
       "\"\\nfor material in classes:\\n    split_data_region(  os.path.join(DESTINATION_DIR, 'all_data', str(material)),\\n                        os.path.join(DESTINATION_DIR, 'train', str(material)),\\n                        os.path.join(DESTINATION_DIR, 'validation', str(material)),\\n                        os.path.join(DESTINATION_DIR, 'test', str(material)),\\n                        'Industriegebiet_Fordwerke')\\n                        \""
      ]
     },
     "execution_count": 20,
     "metadata": {},
     "output_type": "execute_result"
    }
   ],
   "source": [
    "for material in classes:\n",
    "   split_data_random(os.path.join(DESTINATION_DIR, 'all_data', str(material)), os.path.join(DESTINATION_DIR, 'train', str(material)), os.path.join(DESTINATION_DIR, 'validation', str(material)), os.path.join(DESTINATION_DIR, 'test', str(material)))\n",
    "\n",
    "'''\n",
    "for material in classes:\n",
    "    split_data_region(  os.path.join(DESTINATION_DIR, 'all_data', str(material)),\n",
    "                        os.path.join(DESTINATION_DIR, 'train', str(material)),\n",
    "                        os.path.join(DESTINATION_DIR, 'validation', str(material)),\n",
    "                        os.path.join(DESTINATION_DIR, 'test', str(material)),\n",
    "                        'Industriegebiet_Fordwerke')\n",
    "                        '''"
   ]
  }
 ],
 "metadata": {
  "kernelspec": {
   "display_name": "dl",
   "language": "python",
   "name": "python3"
  },
  "language_info": {
   "codemirror_mode": {
    "name": "ipython",
    "version": 3
   },
   "file_extension": ".py",
   "mimetype": "text/x-python",
   "name": "python",
   "nbconvert_exporter": "python",
   "pygments_lexer": "ipython3",
   "version": "3.10.9"
  },
  "orig_nbformat": 4
 },
 "nbformat": 4,
 "nbformat_minor": 2
}
